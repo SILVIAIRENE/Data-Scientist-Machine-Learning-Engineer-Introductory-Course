{
  "nbformat": 4,
  "nbformat_minor": 0,
  "metadata": {
    "colab": {
      "provenance": [],
      "include_colab_link": true
    },
    "kernelspec": {
      "name": "python3",
      "display_name": "Python 3"
    },
    "language_info": {
      "name": "python"
    }
  },
  "cells": [
    {
      "cell_type": "markdown",
      "metadata": {
        "id": "view-in-github",
        "colab_type": "text"
      },
      "source": [
        "<a href=\"https://colab.research.google.com/github/SILVIAIRENE/Data-Scientist-Machine-Learning-Engineer-Introductory-Course/blob/master/2_The_Sorori_Shinzaemon_Problem.ipynb\" target=\"_parent\"><img src=\"https://colab.research.google.com/assets/colab-badge.svg\" alt=\"Open In Colab\"/></a>"
      ]
    },
    {
      "cell_type": "markdown",
      "source": [
        "Let's write code to calculate the total number of rice grains that Sorori Shinzaemon will receive on the 100th day and output the results. We will also draw a line graph to visualize the progress of the \"number of grains of rice received on that day\" and the \"cumulative number of grains of rice received\" from the first day to the 100th day. This kind of exponential growth phenomenon is also useful knowledge in data analysis. For example, when data storage grows exponentially, it is an important factor in capacity planning."
      ],
      "metadata": {
        "id": "CDMz8VTiK-nN"
      }
    },
    {
      "cell_type": "code",
      "execution_count": null,
      "metadata": {
        "colab": {
          "base_uri": "https://localhost:8080/",
          "height": 616
        },
        "id": "jzDQIdM0i5uq",
        "outputId": "7eb0fa70-06a6-48cd-f971-8b60aca9d36f"
      },
      "outputs": [
        {
          "output_type": "stream",
          "name": "stdout",
          "text": [
            "grains received on day 100: 633825300114114700748351602688\n",
            "Total grains to day 100: 1267650600228229401496703205375\n"
          ]
        },
        {
          "output_type": "execute_result",
          "data": {
            "text/plain": [
              "<matplotlib.legend.Legend at 0x7eb29ba92db0>"
            ]
          },
          "metadata": {},
          "execution_count": 1
        },
        {
          "output_type": "display_data",
          "data": {
            "text/plain": [
              "<Figure size 1200x600 with 1 Axes>"
            ],
            "image/png": "[encoded data removed]"
          },
          "metadata": {}
        }
      ],
      "source": [
        "import matplotlib.pyplot as plt\n",
        "grain=1\n",
        "day=100\n",
        "cant_day=[]\n",
        "total_grain=[]\n",
        "total = 0\n",
        "for i in range(day):\n",
        "  cant_day.append(grain)\n",
        "  total+=grain\n",
        "  total_grain.append(total)\n",
        "  grain*=2\n",
        "\n",
        "print(f\"grains received on day 100: {cant_day[-1]}\")\n",
        "print(f\"Total grains to day 100: {total_grain[-1]}\")\n",
        "#visualization\n",
        "plt.figure(figsize=(12, 6))\n",
        "plt.subplot(1,2,1)\n",
        "plt.plot(range(1, day + 1), cant_day, label=\"Grains per day\")\n",
        "plt.xlabel(\"Day\")\n",
        "plt.ylabel(\"Grains of rice\")\n",
        "plt.title(\"Rice received each day\")\n",
        "plt.grid(True)\n",
        "plt.legend()\n",
        "\n",
        "\n",
        "\n",
        "\n",
        "\n",
        "\n"
      ]
    },
    {
      "cell_type": "markdown",
      "source": [
        "Estimating how many days you can live on a grain of rice"
      ],
      "metadata": {
        "id": "n698p6zWK9rj"
      }
    },
    {
      "cell_type": "code",
      "source": [
        "def compute_sorori_shinzaemon(n_days):\n",
        " grain=1\n",
        " total=0\n",
        " received_grain=[]\n",
        " total_grain=[]\n",
        " for _ in range(n_days):\n",
        "  total_grain.append(grain)\n",
        "  total+=grain\n",
        "  received_grain.append(total)\n",
        "  grain*=2\n",
        " return  received_grain, total_grain"
      ],
      "metadata": {
        "id": "wAgrBJ7lLuJp"
      },
      "execution_count": null,
      "outputs": []
    },
    {
      "cell_type": "markdown",
      "source": [
        "Calcular cuántos días puedes vivir con un grano de arroz"
      ],
      "metadata": {
        "id": "rhNpMNb1Y255"
      }
    },
    {
      "cell_type": "code",
      "source": [
        "def can_survive(total_grains, num_people, grains_per_person_per_day=40000):\n",
        "  if num_people <= 0 or grains_per_person_per_day <= 0:\n",
        "        return 0\n",
        "  days_can_survive = total_grains / (num_people * grains_per_person_per_day)\n",
        "  return days_can_survive"
      ],
      "metadata": {
        "id": "RQUm6i3lY3jP"
      },
      "execution_count": null,
      "outputs": []
    },
    {
      "cell_type": "markdown",
      "source": [
        "# Nueva sección"
      ],
      "metadata": {
        "id": "QuLHOKCvmbQH"
      }
    }
  ]
}