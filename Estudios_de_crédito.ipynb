{
  "nbformat": 4,
  "nbformat_minor": 0,
  "metadata": {
    "colab": {
      "provenance": [],
      "authorship_tag": "ABX9TyO8ZnHLKDJiNmT9qP/w+3vF",
      "include_colab_link": true
    },
    "kernelspec": {
      "name": "python3",
      "display_name": "Python 3"
    },
    "language_info": {
      "name": "python"
    }
  },
  "cells": [
    {
      "cell_type": "markdown",
      "metadata": {
        "id": "view-in-github",
        "colab_type": "text"
      },
      "source": [
        "<a href=\"https://colab.research.google.com/github/SILVIAIRENE/Data-Scientist-Machine-Learning-Engineer-Introductory-Course/blob/master/Estudios_de_cr%C3%A9dito.ipynb\" target=\"_parent\"><img src=\"https://colab.research.google.com/assets/colab-badge.svg\" alt=\"Open In Colab\"/></a>"
      ]
    },
    {
      "cell_type": "code",
      "execution_count": null,
      "metadata": {
        "colab": {
          "base_uri": "https://localhost:8080/"
        },
        "id": "d7mZjpA9YOap",
        "outputId": "d17f996c-3e2c-4428-de55-66df025cea00"
      },
      "outputs": [
        {
          "output_type": "stream",
          "name": "stdout",
          "text": [
            "AUC-ROC del modelo base en el conjunto de validación: 0.7384\n",
            "Archivo de envío 'submission_base_model.csv' creado exitosamente.\n"
          ]
        }
      ],
      "source": [
        "import pandas as pd\n",
        "import numpy as np\n",
        "from sklearn.model_selection import train_test_split\n",
        "from sklearn.linear_model import LogisticRegression\n",
        "from sklearn.metrics import roc_auc_score\n",
        "from sklearn.impute import SimpleImputer\n",
        "from sklearn.preprocessing import StandardScaler\n",
        "\n",
        "# Cargar los datos\n",
        "train_df = pd.read_csv('application_train.csv')\n",
        "\n",
        "# Preprocesamiento: Seleccionar un subconjunto de características y la variable objetivo\n",
        "# Para el modelo base, usaremos solo las características numéricas y una pequeña parte de los datos\n",
        "numerical_features = train_df.select_dtypes(include=np.number).columns.tolist()\n",
        "if 'TARGET' in numerical_features:\n",
        "    numerical_features.remove('TARGET')\n",
        "\n",
        "# Separar características (X) y la variable objetivo (y)\n",
        "X = train_df[numerical_features]\n",
        "y = train_df['TARGET']\n",
        "\n",
        "# Dividir los datos en conjuntos de entrenamiento y validación\n",
        "X_train, X_val, y_train, y_val = train_test_split(X, y, test_size=0.2, random_state=42, stratify=y)\n",
        "\n",
        "# Manejo de valores perdidos: Imputación con la media\n",
        "imputer = SimpleImputer(strategy='mean')\n",
        "X_train_imputed = imputer.fit_transform(X_train)\n",
        "X_val_imputed = imputer.transform(X_val)\n",
        "\n",
        "# Escalar las características\n",
        "scaler = StandardScaler()\n",
        "X_train_scaled = scaler.fit_transform(X_train_imputed)\n",
        "X_val_scaled = scaler.transform(X_val_imputed)\n",
        "\n",
        "# Entrenar el modelo de Regresión Logística\n",
        "model = LogisticRegression(solver='liblinear', random_state=42)\n",
        "model.fit(X_train_scaled, y_train)\n",
        "\n",
        "# Hacer predicciones en el conjunto de validación\n",
        "y_pred_proba = model.predict_proba(X_val_scaled)[:, 1]\n",
        "\n",
        "# Evaluar con la métrica AUC-ROC\n",
        "auc_roc = roc_auc_score(y_val, y_pred_proba)\n",
        "print(f\"AUC-ROC del modelo base en el conjunto de validación: {auc_roc:.4f}\")\n",
        "# Cargar los datos de prueba\n",
        "test_df = pd.read_csv('application_test.csv')\n",
        "test_ids = test_df['SK_ID_CURR']\n",
        "\n",
        "# Preparar los datos de prueba\n",
        "X_test = test_df[numerical_features]\n",
        "X_test_imputed = imputer.transform(X_test)\n",
        "X_test_scaled = scaler.transform(X_test_imputed)\n",
        "\n",
        "# Realizar predicciones\n",
        "predictions = model.predict_proba(X_test_scaled)[:, 1]\n",
        "\n",
        "# Crear el archivo de envío\n",
        "submission = pd.DataFrame({'SK_ID_CURR': test_ids, 'TARGET': predictions})\n",
        "submission.to_csv('submission_base_model.csv', index=False)\n",
        "\n",
        "print(\"Archivo de envío 'submission_base_model.csv' creado exitosamente.\")\n",
        "from sklearn.preprocessing import OneHotEncoder\n",
        "\n",
        "# Identificar características categóricas\n",
        "categorical_features = train_df.select_dtypes(include='object').columns.tolist()\n",
        "\n",
        "# Crear una instancia de OneHotEncoder\n",
        "encoder = OneHotEncoder(handle_unknown='ignore', sparse_output=False)\n",
        "\n",
        "# Ajustar y transformar en los datos de entrenamiento\n",
        "encoded_features_train = encoder.fit_transform(train_df[categorical_features])\n",
        "encoded_features_train_df = pd.DataFrame(encoded_features_train, columns=encoder.get_feature_names_out(categorical_features))\n",
        "\n",
        "# Unir con los datos numéricos\n",
        "X_train_encoded = pd.concat([X_train.reset_index(drop=True), encoded_features_train_df], axis=1)\n",
        "\n"
      ]
    }
  ]
}