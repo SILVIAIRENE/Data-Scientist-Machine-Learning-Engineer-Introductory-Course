{
  "nbformat": 4,
  "nbformat_minor": 0,
  "metadata": {
    "colab": {
      "provenance": [],
      "authorship_tag": "ABX9TyNWjNQc/4Y+rLOvrUMjvP+m",
      "include_colab_link": true
    },
    "kernelspec": {
      "name": "python3",
      "display_name": "Python 3"
    },
    "language_info": {
      "name": "python"
    }
  },
  "cells": [
    {
      "cell_type": "markdown",
      "metadata": {
        "id": "view-in-github",
        "colab_type": "text"
      },
      "source": [
        "<a href=\"https://colab.research.google.com/github/SILVIAIRENE/Data-Scientist-Machine-Learning-Engineer-Introductory-Course/blob/master/Seq2Seq.ipynb\" target=\"_parent\"><img src=\"https://colab.research.google.com/assets/colab-badge.svg\" alt=\"Open In Colab\"/></a>"
      ]
    },
    {
      "cell_type": "code",
      "source": [
        "import os\n",
        "import zipfile\n",
        "from tensorflow import keras\n",
        "\n",
        "# Descargar el dataset (no usar extract=True esta vez)\n",
        "path_to_zip = keras.utils.get_file(\n",
        "    \"fra-eng.zip\",\n",
        "    origin=\"http://storage.googleapis.com/download.tensorflow.org/data/fra-eng.zip\"\n",
        ")\n",
        "\n",
        "# Extraer manualmente\n",
        "data_dir = os.path.dirname(path_to_zip)\n",
        "with zipfile.ZipFile(path_to_zip, 'r') as zip_ref:\n",
        "    zip_ref.extractall(data_dir)\n",
        "\n",
        "# Ahora sí: ruta al archivo fra.txt\n",
        "file_path = os.path.join(data_dir, \"fra.txt\")\n",
        "\n",
        "print(\"Ruta correcta:\", file_path)\n",
        "\n",
        "# Probar lectura\n",
        "with open(file_path, \"r\", encoding=\"utf-8\") as f:\n",
        "    lines = f.read().split(\"\\n\")\n",
        "\n",
        "print(\"✅ Dataset cargado, ejemplos:\", len(lines))\n",
        "print(\"Ejemplo:\", lines[0])\n"
      ],
      "metadata": {
        "colab": {
          "base_uri": "https://localhost:8080/"
        },
        "id": "Htk0EyZvJTYM",
        "outputId": "93f73fd5-8298-4ace-db4c-5a242b15132e"
      },
      "execution_count": null,
      "outputs": [
        {
          "output_type": "stream",
          "name": "stdout",
          "text": [
            "Ruta correcta: /root/.keras/datasets/fra.txt\n",
            "✅ Dataset cargado, ejemplos: 167131\n",
            "Ejemplo: Go.\tVa !\n"
          ]
        }
      ]
    },
    {
      "cell_type": "code",
      "execution_count": null,
      "metadata": {
        "colab": {
          "base_uri": "https://localhost:8080/"
        },
        "id": "Upt1Fx9FIiCC",
        "outputId": "ad2b30c6-0290-439a-b484-8052894713e0"
      },
      "outputs": [
        {
          "output_type": "stream",
          "name": "stdout",
          "text": [
            "Ejemplos cargados: 100\n",
            "Epoch 1/10\n",
            "\u001b[1m2/2\u001b[0m \u001b[32m━━━━━━━━━━━━━━━━━━━━\u001b[0m\u001b[37m\u001b[0m \u001b[1m3s\u001b[0m 602ms/step - loss: 1.9168 - val_loss: 2.0971\n",
            "Epoch 2/10\n",
            "\u001b[1m2/2\u001b[0m \u001b[32m━━━━━━━━━━━━━━━━━━━━\u001b[0m\u001b[37m\u001b[0m \u001b[1m0s\u001b[0m 158ms/step - loss: 1.8962 - val_loss: 2.0832\n",
            "Epoch 3/10\n",
            "\u001b[1m2/2\u001b[0m \u001b[32m━━━━━━━━━━━━━━━━━━━━\u001b[0m\u001b[37m\u001b[0m \u001b[1m0s\u001b[0m 150ms/step - loss: 1.8633 - val_loss: 2.0615\n",
            "Epoch 4/10\n",
            "\u001b[1m2/2\u001b[0m \u001b[32m━━━━━━━━━━━━━━━━━━━━\u001b[0m\u001b[37m\u001b[0m \u001b[1m0s\u001b[0m 169ms/step - loss: 1.8716 - val_loss: 1.9949\n",
            "Epoch 5/10\n",
            "\u001b[1m2/2\u001b[0m \u001b[32m━━━━━━━━━━━━━━━━━━━━\u001b[0m\u001b[37m\u001b[0m \u001b[1m0s\u001b[0m 153ms/step - loss: 1.8018 - val_loss: 1.9171\n",
            "Epoch 6/10\n",
            "\u001b[1m2/2\u001b[0m \u001b[32m━━━━━━━━━━━━━━━━━━━━\u001b[0m\u001b[37m\u001b[0m \u001b[1m0s\u001b[0m 158ms/step - loss: 1.7226 - val_loss: 1.8568\n",
            "Epoch 7/10\n",
            "\u001b[1m2/2\u001b[0m \u001b[32m━━━━━━━━━━━━━━━━━━━━\u001b[0m\u001b[37m\u001b[0m \u001b[1m0s\u001b[0m 162ms/step - loss: 1.6743 - val_loss: 1.8174\n",
            "Epoch 8/10\n",
            "\u001b[1m2/2\u001b[0m \u001b[32m━━━━━━━━━━━━━━━━━━━━\u001b[0m\u001b[37m\u001b[0m \u001b[1m0s\u001b[0m 159ms/step - loss: 1.6322 - val_loss: 1.7909\n",
            "Epoch 9/10\n",
            "\u001b[1m2/2\u001b[0m \u001b[32m━━━━━━━━━━━━━━━━━━━━\u001b[0m\u001b[37m\u001b[0m \u001b[1m0s\u001b[0m 186ms/step - loss: 1.5952 - val_loss: 1.7774\n",
            "Epoch 10/10\n",
            "\u001b[1m2/2\u001b[0m \u001b[32m━━━━━━━━━━━━━━━━━━━━\u001b[0m\u001b[37m\u001b[0m \u001b[1m1s\u001b[0m 282ms/step - loss: 1.5743 - val_loss: 1.7627\n",
            "✅ Modelo entrenado (demo).\n"
          ]
        }
      ],
      "source": [
        "# =======================\n",
        "# Ejemplo Keras Seq2Seq (traducción char-level)\n",
        "# =======================\n",
        "# Fuente: keras.io / ejemplos oficiales\n",
        "# Nota: Este ejemplo entrena un modelo pequeño.\n",
        "# No requiere dataset pesado.\n",
        "\n",
        "import numpy as np\n",
        "import tensorflow as tf\n",
        "from tensorflow import keras\n",
        "from tensorflow.keras import layers\n",
        "\n",
        "# Parámetros\n",
        "batch_size = 64\n",
        "epochs = 10\n",
        "latent_dim = 256\n",
        "num_samples = 100  # usar solo 100 frases como demo\n",
        "\n",
        "# Dataset de ejemplo: inglés-francés mini\n",
        "data_path = keras.utils.get_file(\n",
        "    \"fra-eng.zip\", origin=\"http://storage.googleapis.com/download.tensorflow.org/data/fra-eng.zip\", extract=True\n",
        ")\n",
        "import os\n",
        "file_path = os.path.join(os.path.dirname(data_path), \"fra.txt\")\n",
        "\n",
        "# Lectura de datos\n",
        "input_texts = []\n",
        "target_texts = []\n",
        "input_chars = set()\n",
        "target_chars = set()\n",
        "with open(file_path, \"r\", encoding=\"utf-8\") as f:\n",
        "    lines = f.read().split(\"\\n\")\n",
        "for line in lines[: num_samples]:\n",
        "    if \"\\t\" not in line:\n",
        "        continue\n",
        "    input_text, target_text = line.split(\"\\t\")[:2]\n",
        "    # Añadimos tokens start y end\n",
        "    target_text = \"\\t\" + target_text + \"\\n\"\n",
        "    input_texts.append(input_text)\n",
        "    target_texts.append(target_text)\n",
        "    for ch in input_text:\n",
        "        input_chars.add(ch)\n",
        "    for ch in target_text:\n",
        "        target_chars.add(ch)\n",
        "\n",
        "input_chars = sorted(list(input_chars))\n",
        "target_chars = sorted(list(target_chars))\n",
        "num_encoder_tokens = len(input_chars)\n",
        "num_decoder_tokens = len(target_chars)\n",
        "max_encoder_seq_length = max(len(txt) for txt in input_texts)\n",
        "max_decoder_seq_length = max(len(txt) for txt in target_texts)\n",
        "\n",
        "print(\"Ejemplos cargados:\", len(input_texts))\n",
        "\n",
        "# Diccionarios char->int\n",
        "input_token_index = dict([(ch, i) for i, ch in enumerate(input_chars)])\n",
        "target_token_index = dict([(ch, i) for i, ch in enumerate(target_chars)])\n",
        "\n",
        "# Vectorización (one-hot)\n",
        "encoder_input_data = np.zeros((len(input_texts), max_encoder_seq_length, num_encoder_tokens), dtype=\"float32\")\n",
        "decoder_input_data = np.zeros((len(input_texts), max_decoder_seq_length, num_decoder_tokens), dtype=\"float32\")\n",
        "decoder_target_data = np.zeros((len(input_texts), max_decoder_seq_length, num_decoder_tokens), dtype=\"float32\")\n",
        "\n",
        "for i, (input_text, target_text) in enumerate(zip(input_texts, target_texts)):\n",
        "    for t, char in enumerate(input_text):\n",
        "        encoder_input_data[i, t, input_token_index[char]] = 1.0\n",
        "    for t, char in enumerate(target_text):\n",
        "        decoder_input_data[i, t, target_token_index[char]] = 1.0\n",
        "        if t > 0:\n",
        "            decoder_target_data[i, t - 1, target_token_index[char]] = 1.0\n",
        "\n",
        "# Definición del modelo\n",
        "encoder_inputs = keras.Input(shape=(None, num_encoder_tokens))\n",
        "encoder = layers.LSTM(latent_dim, return_state=True)\n",
        "encoder_outputs, state_h, state_c = encoder(encoder_inputs)\n",
        "encoder_states = [state_h, state_c]\n",
        "\n",
        "decoder_inputs = keras.Input(shape=(None, num_decoder_tokens))\n",
        "decoder_lstm = layers.LSTM(latent_dim, return_sequences=True, return_state=True)\n",
        "decoder_outputs, _, _ = decoder_lstm(decoder_inputs, initial_state=encoder_states)\n",
        "decoder_dense = layers.Dense(num_decoder_tokens, activation=\"softmax\")\n",
        "decoder_outputs = decoder_dense(decoder_outputs)\n",
        "\n",
        "model = keras.Model([encoder_inputs, decoder_inputs], decoder_outputs)\n",
        "\n",
        "model.compile(optimizer=\"rmsprop\", loss=\"categorical_crossentropy\")\n",
        "model.fit([encoder_input_data, decoder_input_data], decoder_target_data, batch_size=batch_size, epochs=epochs, validation_split=0.2)\n",
        "\n",
        "print(\"✅ Modelo entrenado (demo).\")\n"
      ]
    },
    {
      "cell_type": "markdown",
      "source": [
        "#  Sección 2: Traducción Automática (Seq2Seq con LSTM)\n",
        "\n",
        "### Enunciado\n",
        "Ejecutar y analizar el código de traducción automática carácter a carácter (`lstm_seq2seq.py` de Keras).\n"
      ],
      "metadata": {
        "id": "4YX7McLwL8OF"
      }
    },
    {
      "cell_type": "code",
      "source": [
        "# =======================\n",
        "# Descarga y extracción del dataset fra-eng\n",
        "# =======================\n",
        "import os, zipfile\n",
        "from tensorflow import keras\n",
        "\n",
        "path_to_zip = keras.utils.get_file(\n",
        "    \"fra-eng.zip\",\n",
        "    origin=\"http://storage.googleapis.com/download.tensorflow.org/data/fra-eng.zip\"\n",
        ")\n",
        "\n",
        "# Extraer manualmente\n",
        "data_dir = os.path.dirname(path_to_zip)\n",
        "with zipfile.ZipFile(path_to_zip, 'r') as zip_ref:\n",
        "    zip_ref.extractall(data_dir)\n",
        "\n",
        "file_path = os.path.join(data_dir, \"fra.txt\")\n",
        "\n",
        "with open(file_path, \"r\", encoding=\"utf-8\") as f:\n",
        "    lines = f.read().split(\"\\n\")\n",
        "\n",
        "print(\"✅ Dataset cargado. Total líneas:\", len(lines))\n",
        "print(\"Ejemplo:\", lines[0])\n"
      ],
      "metadata": {
        "colab": {
          "base_uri": "https://localhost:8080/"
        },
        "id": "ezFjlajyL-Lm",
        "outputId": "c784a46e-6312-48a6-94ad-07f109bbfa40"
      },
      "execution_count": null,
      "outputs": [
        {
          "output_type": "stream",
          "name": "stdout",
          "text": [
            "✅ Dataset cargado. Total líneas: 167131\n",
            "Ejemplo: Go.\tVa !\n"
          ]
        }
      ]
    },
    {
      "cell_type": "code",
      "source": [
        "# =======================\n",
        "# Preparación de datos\n",
        "# =======================\n",
        "import numpy as np\n",
        "\n",
        "num_samples = 10000\n",
        "input_texts, target_texts = [], []\n",
        "input_chars, target_chars = set(), set()\n",
        "\n",
        "for line in lines[:num_samples]:\n",
        "    if \"\\t\" not in line:\n",
        "        continue\n",
        "    input_text, target_text = line.split(\"\\t\")[:2]\n",
        "    target_text = \"\\t\" + target_text + \"\\n\"\n",
        "    input_texts.append(input_text)\n",
        "    target_texts.append(target_text)\n",
        "    for ch in input_text:\n",
        "        input_chars.add(ch)\n",
        "    for ch in target_text:\n",
        "        target_chars.add(ch)\n",
        "\n",
        "input_chars = sorted(list(input_chars))\n",
        "target_chars = sorted(list(target_chars))\n",
        "\n",
        "num_encoder_tokens = len(input_chars)\n",
        "num_decoder_tokens = len(target_chars)\n",
        "max_encoder_seq_length = max(len(txt) for txt in input_texts)\n",
        "max_decoder_seq_length = max(len(txt) for txt in target_texts)\n",
        "\n",
        "print(\"Tokens entrada:\", num_encoder_tokens)\n",
        "print(\"Tokens salida:\", num_decoder_tokens)\n",
        "\n",
        "input_token_index = {ch: i for i, ch in enumerate(input_chars)}\n",
        "target_token_index = {ch: i for i, ch in enumerate(target_chars)}\n",
        "\n",
        "encoder_input_data = np.zeros((len(input_texts), max_encoder_seq_length, num_encoder_tokens), dtype=\"float32\")\n",
        "decoder_input_data = np.zeros((len(input_texts), max_decoder_seq_length, num_decoder_tokens), dtype=\"float32\")\n",
        "decoder_target_data = np.zeros((len(input_texts), max_decoder_seq_length, num_decoder_tokens), dtype=\"float32\")\n",
        "\n",
        "for i, (input_text, target_text) in enumerate(zip(input_texts, target_texts)):\n",
        "    for t, ch in enumerate(input_text):\n",
        "        encoder_input_data[i, t, input_token_index[ch]] = 1.0\n",
        "    for t, ch in enumerate(target_text):\n",
        "        decoder_input_data[i, t, target_token_index[ch]] = 1.0\n",
        "        if t > 0:\n",
        "            decoder_target_data[i, t - 1, target_token_index[ch]] = 1.0\n"
      ],
      "metadata": {
        "colab": {
          "base_uri": "https://localhost:8080/"
        },
        "id": "YGs7TCbZMCta",
        "outputId": "d595e158-672e-4cd9-9ce0-866a90586e8f"
      },
      "execution_count": null,
      "outputs": [
        {
          "output_type": "stream",
          "name": "stdout",
          "text": [
            "Tokens entrada: 70\n",
            "Tokens salida: 93\n"
          ]
        }
      ]
    },
    {
      "cell_type": "code",
      "source": [
        "# =======================\n",
        "# Definición y entrenamiento del modelo Seq2Seq\n",
        "# =======================\n",
        "from tensorflow.keras import layers, Model, Input\n",
        "\n",
        "latent_dim = 256\n",
        "\n",
        "# Encoder\n",
        "encoder_inputs = Input(shape=(None, num_encoder_tokens))\n",
        "encoder = layers.LSTM(latent_dim, return_state=True)\n",
        "_, state_h, state_c = encoder(encoder_inputs)\n",
        "encoder_states = [state_h, state_c]\n",
        "\n",
        "# Decoder\n",
        "decoder_inputs = Input(shape=(None, num_decoder_tokens))\n",
        "decoder_lstm = layers.LSTM(latent_dim, return_sequences=True, return_state=True)\n",
        "decoder_outputs, _, _ = decoder_lstm(decoder_inputs, initial_state=encoder_states)\n",
        "decoder_dense = layers.Dense(num_decoder_tokens, activation=\"softmax\")\n",
        "decoder_outputs = decoder_dense(decoder_outputs)\n",
        "\n",
        "model = Model([encoder_inputs, decoder_inputs], decoder_outputs)\n",
        "model.compile(optimizer=\"rmsprop\", loss=\"categorical_crossentropy\")\n",
        "\n",
        "history = model.fit(\n",
        "    [encoder_input_data, decoder_input_data],\n",
        "    decoder_target_data,\n",
        "    batch_size=64,\n",
        "    epochs=10,\n",
        "    validation_split=0.2\n",
        ")\n",
        "\n",
        "print(\"✅ Modelo entrenado.\")\n"
      ],
      "metadata": {
        "colab": {
          "base_uri": "https://localhost:8080/"
        },
        "id": "OUkH2PdaMLQk",
        "outputId": "8e7fda7e-3aee-4fd2-de4f-abbbd141338a"
      },
      "execution_count": null,
      "outputs": [
        {
          "output_type": "stream",
          "name": "stdout",
          "text": [
            "Epoch 1/10\n",
            "\u001b[1m125/125\u001b[0m \u001b[32m━━━━━━━━━━━━━━━━━━━━\u001b[0m\u001b[37m\u001b[0m \u001b[1m51s\u001b[0m 396ms/step - loss: 1.1979 - val_loss: 1.1844\n",
            "Epoch 2/10\n",
            "\u001b[1m125/125\u001b[0m \u001b[32m━━━━━━━━━━━━━━━━━━━━\u001b[0m\u001b[37m\u001b[0m \u001b[1m49s\u001b[0m 389ms/step - loss: 1.0383 - val_loss: 1.1603\n",
            "Epoch 3/10\n",
            "\u001b[1m125/125\u001b[0m \u001b[32m━━━━━━━━━━━━━━━━━━━━\u001b[0m\u001b[37m\u001b[0m \u001b[1m86s\u001b[0m 419ms/step - loss: 1.0212 - val_loss: 1.1493\n",
            "Epoch 4/10\n",
            "\u001b[1m125/125\u001b[0m \u001b[32m━━━━━━━━━━━━━━━━━━━━\u001b[0m\u001b[37m\u001b[0m \u001b[1m49s\u001b[0m 394ms/step - loss: 1.0010 - val_loss: 1.1611\n",
            "Epoch 5/10\n",
            "\u001b[1m125/125\u001b[0m \u001b[32m━━━━━━━━━━━━━━━━━━━━\u001b[0m\u001b[37m\u001b[0m \u001b[1m50s\u001b[0m 403ms/step - loss: 0.9811 - val_loss: 1.1167\n",
            "Epoch 6/10\n",
            "\u001b[1m125/125\u001b[0m \u001b[32m━━━━━━━━━━━━━━━━━━━━\u001b[0m\u001b[37m\u001b[0m \u001b[1m62s\u001b[0m 497ms/step - loss: 0.9721 - val_loss: 1.1048\n",
            "Epoch 7/10\n",
            "\u001b[1m125/125\u001b[0m \u001b[32m━━━━━━━━━━━━━━━━━━━━\u001b[0m\u001b[37m\u001b[0m \u001b[1m74s\u001b[0m 438ms/step - loss: 0.9614 - val_loss: 1.0853\n",
            "Epoch 8/10\n",
            "\u001b[1m125/125\u001b[0m \u001b[32m━━━━━━━━━━━━━━━━━━━━\u001b[0m\u001b[37m\u001b[0m \u001b[1m75s\u001b[0m 380ms/step - loss: 0.9489 - val_loss: 1.0837\n",
            "Epoch 9/10\n",
            "\u001b[1m125/125\u001b[0m \u001b[32m━━━━━━━━━━━━━━━━━━━━\u001b[0m\u001b[37m\u001b[0m \u001b[1m83s\u001b[0m 391ms/step - loss: 0.9348 - val_loss: 1.0773\n",
            "Epoch 10/10\n",
            "\u001b[1m125/125\u001b[0m \u001b[32m━━━━━━━━━━━━━━━━━━━━\u001b[0m\u001b[37m\u001b[0m \u001b[1m49s\u001b[0m 392ms/step - loss: 0.9274 - val_loss: 1.0876\n",
            "✅ Modelo entrenado.\n"
          ]
        }
      ]
    },
    {
      "cell_type": "markdown",
      "source": [
        "### Teoría\n",
        "- **Tokenización carácter a carácter** → cada caracter es un token.\n",
        "- Pros: vocabulario pequeño.\n",
        "- Contras: secuencias más largas.\n",
        "- Alternativa moderna: subwords (SentencePiece, BPE).\n"
      ],
      "metadata": {
        "id": "LR69CiVlMw1z"
      }
    },
    {
      "cell_type": "markdown",
      "source": [
        "#  Sección 3: Subtitulación de Imágenes (PyTorch)\n",
        "\n",
        "### Enunciado\n",
        "Ejecutar el modelo de subtitulado de imágenes preentrenado (tutorial de Yunjey).\n"
      ],
      "metadata": {
        "id": "atx4n3_vM1OE"
      }
    },
    {
      "cell_type": "code",
      "source": [
        "import torch\n",
        "import torchvision.transforms as transforms\n",
        "from PIL import Image\n",
        "import json\n",
        "\n",
        "DEVICE = torch.device(\"cuda\" if torch.cuda.is_available() else \"cpu\")\n",
        "\n",
        "MODEL_PATH = \"models/BEST_checkpoint.pth.tar\"   # subir a Colab\n",
        "WORDMAP_PATH = \"data/WORDMAP_coco.json\"         # subir a Colab\n",
        "IMG_PATH = \"/content/sample.jpg\"                # subir tu imagen\n",
        "\n",
        "checkpoint = torch.load(MODEL_PATH, map_location=DEVICE)\n",
        "decoder = checkpoint['decoder'].to(DEVICE).eval()\n",
        "encoder = checkpoint['encoder'].to(DEVICE).eval()\n",
        "\n",
        "with open(WORDMAP_PATH, 'r') as j:\n",
        "    word_map = json.load(j)\n",
        "rev_word_map = {v: k for k, v in word_map.items()}\n",
        "\n",
        "transform = transforms.Compose([\n",
        "    transforms.Resize((256,256)),\n",
        "    transforms.CenterCrop(224),\n",
        "    transforms.ToTensor(),\n",
        "    transforms.Normalize(mean=[0.485,0.456,0.406], std=[0.229,0.224,0.225])\n",
        "])\n",
        "\n",
        "def caption_image(image_path):\n",
        "    img = Image.open(image_path).convert('RGB')\n",
        "    image = transform(img).unsqueeze(0).to(DEVICE)\n",
        "    encoder_out = encoder(image)\n",
        "    seq, _ = decoder.sample(encoder_out)\n",
        "    words = [rev_word_map[i] for i in seq if i not in {word_map['<start>'], word_map['<end>']}]\n",
        "    return \" \".join(words)\n",
        "\n",
        "print(\"Caption generado:\", caption_image(IMG_PATH))\n"
      ],
      "metadata": {
        "id": "ZibVwts_MwOA"
      },
      "execution_count": null,
      "outputs": []
    },
    {
      "cell_type": "markdown",
      "source": [
        "#  Sección 5: Reescritura del modelo de subtitulado en Keras\n"
      ],
      "metadata": {
        "id": "G5fJTILcNSIm"
      }
    },
    {
      "cell_type": "code",
      "source": [
        "import tensorflow as tf\n",
        "from tensorflow.keras import layers, Model, Input\n",
        "from tensorflow.keras.applications import ResNet50\n",
        "\n",
        "EMBED_DIM = 256\n",
        "LSTM_UNITS = 512\n",
        "VOCAB_SIZE = 5000\n",
        "\n",
        "def build_encoder(output_dim=EMBED_DIM):\n",
        "    base = ResNet50(weights=\"imagenet\", include_top=False, pooling=\"avg\")\n",
        "    base.trainable = False\n",
        "    img_in = Input(shape=(224,224,3))\n",
        "    feat = base(img_in)\n",
        "    proj = layers.Dense(output_dim, activation=\"relu\")(feat)\n",
        "    return Model(img_in, proj, name=\"encoder\")\n",
        "\n",
        "def build_decoder(vocab_size=VOCAB_SIZE, embed_dim=EMBED_DIM, lstm_units=LSTM_UNITS):\n",
        "    dec_in = Input(shape=(None,))\n",
        "    img_feat = Input(shape=(embed_dim,))\n",
        "    emb = layers.Embedding(vocab_size, embed_dim, mask_zero=True)(dec_in)\n",
        "    h0 = layers.Dense(lstm_units, activation=\"tanh\")(img_feat)\n",
        "    c0 = layers.Dense(lstm_units, activation=\"tanh\")(img_feat)\n",
        "    lstm_out = layers.LSTM(lstm_units, return_sequences=True)(emb, initial_state=[h0,c0])\n",
        "    out = layers.TimeDistributed(layers.Dense(vocab_size, activation=\"softmax\"))(lstm_out)\n",
        "    return Model([dec_in, img_feat], out, name=\"decoder\")\n",
        "\n",
        "def build_model():\n",
        "    encoder = build_encoder()\n",
        "    decoder = build_decoder()\n",
        "    img_in = encoder.input\n",
        "    dec_in = decoder.input[0]\n",
        "    feat = encoder(img_in)\n",
        "    outputs = decoder([dec_in, feat])\n",
        "    model = Model([img_in, dec_in], outputs)\n",
        "    model.compile(optimizer=\"adam\", loss=\"sparse_categorical_crossentropy\", metrics=[\"accuracy\"])\n",
        "    return model\n",
        "\n",
        "model = build_model()\n",
        "model.summary()\n"
      ],
      "metadata": {
        "colab": {
          "base_uri": "https://localhost:8080/",
          "height": 376
        },
        "id": "Shvuzp5ZNWTE",
        "outputId": "19f6e8a0-a6c0-4414-f922-ca9c17986c80"
      },
      "execution_count": null,
      "outputs": [
        {
          "output_type": "stream",
          "name": "stdout",
          "text": [
            "Downloading data from https://storage.googleapis.com/tensorflow/keras-applications/resnet/resnet50_weights_tf_dim_ordering_tf_kernels_notop.h5\n",
            "\u001b[1m94765736/94765736\u001b[0m \u001b[32m━━━━━━━━━━━━━━━━━━━━\u001b[0m\u001b[37m\u001b[0m \u001b[1m0s\u001b[0m 0us/step\n"
          ]
        },
        {
          "output_type": "display_data",
          "data": {
            "text/plain": [
              "\u001b[1mModel: \"functional_2\"\u001b[0m\n"
            ],
            "text/html": [
              "<pre style=\"white-space:pre;overflow-x:auto;line-height:normal;font-family:Menlo,'DejaVu Sans Mono',consolas,'Courier New',monospace\"><span style=\"font-weight: bold\">Model: \"functional_2\"</span>\n",
              "</pre>\n"
            ]
          },
          "metadata": {}
        },
        {
          "output_type": "display_data",
          "data": {
            "text/plain": [
              "┏━━━━━━━━━━━━━━━━━━━━━┳━━━━━━━━━━━━━━━━━━━┳━━━━━━━━━━━━┳━━━━━━━━━━━━━━━━━━━┓\n",
              "┃\u001b[1m \u001b[0m\u001b[1mLayer (type)       \u001b[0m\u001b[1m \u001b[0m┃\u001b[1m \u001b[0m\u001b[1mOutput Shape     \u001b[0m\u001b[1m \u001b[0m┃\u001b[1m \u001b[0m\u001b[1m   Param #\u001b[0m\u001b[1m \u001b[0m┃\u001b[1m \u001b[0m\u001b[1mConnected to     \u001b[0m\u001b[1m \u001b[0m┃\n",
              "┡━━━━━━━━━━━━━━━━━━━━━╇━━━━━━━━━━━━━━━━━━━╇━━━━━━━━━━━━╇━━━━━━━━━━━━━━━━━━━┩\n",
              "│ input_layer_5       │ (\u001b[38;5;45mNone\u001b[0m, \u001b[38;5;34m224\u001b[0m, \u001b[38;5;34m224\u001b[0m,  │          \u001b[38;5;34m0\u001b[0m │ -                 │\n",
              "│ (\u001b[38;5;33mInputLayer\u001b[0m)        │ \u001b[38;5;34m3\u001b[0m)                │            │                   │\n",
              "├─────────────────────┼───────────────────┼────────────┼───────────────────┤\n",
              "│ input_layer_6       │ (\u001b[38;5;45mNone\u001b[0m, \u001b[38;5;45mNone\u001b[0m)      │          \u001b[38;5;34m0\u001b[0m │ -                 │\n",
              "│ (\u001b[38;5;33mInputLayer\u001b[0m)        │                   │            │                   │\n",
              "├─────────────────────┼───────────────────┼────────────┼───────────────────┤\n",
              "│ encoder             │ (\u001b[38;5;45mNone\u001b[0m, \u001b[38;5;34m256\u001b[0m)       │ \u001b[38;5;34m24,112,256\u001b[0m │ input_layer_5[\u001b[38;5;34m0\u001b[0m]… │\n",
              "│ (\u001b[38;5;33mFunctional\u001b[0m)        │                   │            │                   │\n",
              "├─────────────────────┼───────────────────┼────────────┼───────────────────┤\n",
              "│ decoder             │ (\u001b[38;5;45mNone\u001b[0m, \u001b[38;5;45mNone\u001b[0m,      │  \u001b[38;5;34m5,683,080\u001b[0m │ input_layer_6[\u001b[38;5;34m0\u001b[0m]… │\n",
              "│ (\u001b[38;5;33mFunctional\u001b[0m)        │ \u001b[38;5;34m5000\u001b[0m)             │            │ encoder[\u001b[38;5;34m0\u001b[0m][\u001b[38;5;34m0\u001b[0m]     │\n",
              "└─────────────────────┴───────────────────┴────────────┴───────────────────┘\n"
            ],
            "text/html": [
              "<pre style=\"white-space:pre;overflow-x:auto;line-height:normal;font-family:Menlo,'DejaVu Sans Mono',consolas,'Courier New',monospace\">┏━━━━━━━━━━━━━━━━━━━━━┳━━━━━━━━━━━━━━━━━━━┳━━━━━━━━━━━━┳━━━━━━━━━━━━━━━━━━━┓\n",
              "┃<span style=\"font-weight: bold\"> Layer (type)        </span>┃<span style=\"font-weight: bold\"> Output Shape      </span>┃<span style=\"font-weight: bold\">    Param # </span>┃<span style=\"font-weight: bold\"> Connected to      </span>┃\n",
              "┡━━━━━━━━━━━━━━━━━━━━━╇━━━━━━━━━━━━━━━━━━━╇━━━━━━━━━━━━╇━━━━━━━━━━━━━━━━━━━┩\n",
              "│ input_layer_5       │ (<span style=\"color: #00d7ff; text-decoration-color: #00d7ff\">None</span>, <span style=\"color: #00af00; text-decoration-color: #00af00\">224</span>, <span style=\"color: #00af00; text-decoration-color: #00af00\">224</span>,  │          <span style=\"color: #00af00; text-decoration-color: #00af00\">0</span> │ -                 │\n",
              "│ (<span style=\"color: #0087ff; text-decoration-color: #0087ff\">InputLayer</span>)        │ <span style=\"color: #00af00; text-decoration-color: #00af00\">3</span>)                │            │                   │\n",
              "├─────────────────────┼───────────────────┼────────────┼───────────────────┤\n",
              "│ input_layer_6       │ (<span style=\"color: #00d7ff; text-decoration-color: #00d7ff\">None</span>, <span style=\"color: #00d7ff; text-decoration-color: #00d7ff\">None</span>)      │          <span style=\"color: #00af00; text-decoration-color: #00af00\">0</span> │ -                 │\n",
              "│ (<span style=\"color: #0087ff; text-decoration-color: #0087ff\">InputLayer</span>)        │                   │            │                   │\n",
              "├─────────────────────┼───────────────────┼────────────┼───────────────────┤\n",
              "│ encoder             │ (<span style=\"color: #00d7ff; text-decoration-color: #00d7ff\">None</span>, <span style=\"color: #00af00; text-decoration-color: #00af00\">256</span>)       │ <span style=\"color: #00af00; text-decoration-color: #00af00\">24,112,256</span> │ input_layer_5[<span style=\"color: #00af00; text-decoration-color: #00af00\">0</span>]… │\n",
              "│ (<span style=\"color: #0087ff; text-decoration-color: #0087ff\">Functional</span>)        │                   │            │                   │\n",
              "├─────────────────────┼───────────────────┼────────────┼───────────────────┤\n",
              "│ decoder             │ (<span style=\"color: #00d7ff; text-decoration-color: #00d7ff\">None</span>, <span style=\"color: #00d7ff; text-decoration-color: #00d7ff\">None</span>,      │  <span style=\"color: #00af00; text-decoration-color: #00af00\">5,683,080</span> │ input_layer_6[<span style=\"color: #00af00; text-decoration-color: #00af00\">0</span>]… │\n",
              "│ (<span style=\"color: #0087ff; text-decoration-color: #0087ff\">Functional</span>)        │ <span style=\"color: #00af00; text-decoration-color: #00af00\">5000</span>)             │            │ encoder[<span style=\"color: #00af00; text-decoration-color: #00af00\">0</span>][<span style=\"color: #00af00; text-decoration-color: #00af00\">0</span>]     │\n",
              "└─────────────────────┴───────────────────┴────────────┴───────────────────┘\n",
              "</pre>\n"
            ]
          },
          "metadata": {}
        },
        {
          "output_type": "display_data",
          "data": {
            "text/plain": [
              "\u001b[1m Total params: \u001b[0m\u001b[38;5;34m29,795,336\u001b[0m (113.66 MB)\n"
            ],
            "text/html": [
              "<pre style=\"white-space:pre;overflow-x:auto;line-height:normal;font-family:Menlo,'DejaVu Sans Mono',consolas,'Courier New',monospace\"><span style=\"font-weight: bold\"> Total params: </span><span style=\"color: #00af00; text-decoration-color: #00af00\">29,795,336</span> (113.66 MB)\n",
              "</pre>\n"
            ]
          },
          "metadata": {}
        },
        {
          "output_type": "display_data",
          "data": {
            "text/plain": [
              "\u001b[1m Trainable params: \u001b[0m\u001b[38;5;34m6,207,624\u001b[0m (23.68 MB)\n"
            ],
            "text/html": [
              "<pre style=\"white-space:pre;overflow-x:auto;line-height:normal;font-family:Menlo,'DejaVu Sans Mono',consolas,'Courier New',monospace\"><span style=\"font-weight: bold\"> Trainable params: </span><span style=\"color: #00af00; text-decoration-color: #00af00\">6,207,624</span> (23.68 MB)\n",
              "</pre>\n"
            ]
          },
          "metadata": {}
        },
        {
          "output_type": "display_data",
          "data": {
            "text/plain": [
              "\u001b[1m Non-trainable params: \u001b[0m\u001b[38;5;34m23,587,712\u001b[0m (89.98 MB)\n"
            ],
            "text/html": [
              "<pre style=\"white-space:pre;overflow-x:auto;line-height:normal;font-family:Menlo,'DejaVu Sans Mono',consolas,'Courier New',monospace\"><span style=\"font-weight: bold\"> Non-trainable params: </span><span style=\"color: #00af00; text-decoration-color: #00af00\">23,587,712</span> (89.98 MB)\n",
              "</pre>\n"
            ]
          },
          "metadata": {}
        }
      ]
    },
    {
      "cell_type": "code",
      "source": [
        "#  Sección 6: Investigaciones avanzadas\n",
        "\n",
        "### Respuestas\n",
        "#1. **Traducción japonés ↔ inglés**\n",
        " #\"- Dataset paralelo (JParaCrawl).\n",
        "   #\"- Tokenización subwords (SentencePiece).\n",
        "   #\"- Modelos preentrenados: mBART, mT5.\n",
        "\n",
        "#\"2.**Métodos avanzados de NMT**\n",
        "   #\"- Atención (Bahdanau, Luong).\n",
        "   #- Transformers (Transformer base, BERT, GPT, mT5).\n",
        "\n",
        "#3. **Texto → Imagen**\n",
        "   #- GANs condicionados (StackGAN).\n",
        "   #- Modelos de difusión (Stable Diffusion, Imagen, DALL·E 2).\n",
        "   #- Usan un encoder de texto + generador en espacio latente.\"\"\n"
      ],
      "metadata": {
        "id": "B5xxrtOSNZlf"
      },
      "execution_count": null,
      "outputs": []
    }
  ]
}