{
  "nbformat": 4,
  "nbformat_minor": 0,
  "metadata": {
    "colab": {
      "provenance": [],
      "authorship_tag": "ABX9TyMyQjII26w3Cz5CGhGbMNLS",
      "include_colab_link": true
    },
    "kernelspec": {
      "name": "python3",
      "display_name": "Python 3"
    },
    "language_info": {
      "name": "python"
    }
  },
  "cells": [
    {
      "cell_type": "markdown",
      "metadata": {
        "id": "view-in-github",
        "colab_type": "text"
      },
      "source": [
        "<a href=\"https://colab.research.google.com/github/SILVIAIRENE/Data-Scientist-Machine-Learning-Engineer-Introductory-Course/blob/master/Aplicaci%C3%B3n_de_productos_matriciales.ipynb\" target=\"_parent\"><img src=\"https://colab.research.google.com/assets/colab-badge.svg\" alt=\"Open In Colab\"/></a>"
      ]
    },
    {
      "cell_type": "markdown",
      "source": [
        "Problema 1: Producto matricial manual\n",
        "El producto matricial de A y B se calcula multiplicando las filas de la matriz A por las columnas de la matriz B y sumando los productos.\n",
        "\n",
        "Matrices:\n",
        "A=\n",
        "​\n",
        "\n",
        "−1\n",
        "4\n",
        "7\n",
        "​\n",
        "  \n",
        "2\n",
        "−5\n",
        "8\n",
        "​\n",
        "  \n",
        "3\n",
        "6\n",
        "−9\n",
        "​\n",
        "  \n",
        "\n",
        "​\n",
        "B=\n",
        "\n",
        "​\n",
        "0\n",
        "0\n",
        "2\n",
        "​\n",
        "  \n",
        "2\n",
        "2\n",
        "9\n",
        "​\n",
        "  \n",
        "1\n",
        "−8\n",
        "−1\n",
        "​\n",
        "  \n",
        "\n",
        "​\n",
        "\n",
        "\n",
        "Cálculos:\n",
        "\n",
        "Elemento (0,0) de C: Fila 0 de A por Columna 0 de B:\n",
        "(−1⋅0)+(2⋅0)+(3⋅2)=0+0+6=6\n",
        "\n",
        "Elemento (0,1) de C: Fila 0 de A por Columna 1 de B:\n",
        "(−1⋅2)+(2⋅2)+(3⋅9)=−2+4+27=29\n",
        "\n",
        "Elemento (0,2) de C: Fila 0 de A por Columna 2 de B:\n",
        "(−1⋅1)+(2⋅−8)+(3⋅−1)=−1−16−3=−20\n",
        "\n",
        "Elemento (1,0) de C: Fila 1 de A por Columna 0 de B:\n",
        "(4⋅0)+(−5⋅0)+(6⋅2)=0+0+12=12\n",
        "\n",
        "Elemento (1,1) de C: Fila 1 de A por Columna 1 de B:\n",
        "(4⋅2)+(−5⋅2)+(6⋅9)=8−10+54=52\n",
        "\n",
        "Elemento (1,2) de C: Fila 1 de A por Columna 2 de B:\n",
        "(4⋅1)+(−5⋅−8)+(6⋅−1)=4+40−6=38\n",
        "\n",
        "Elemento (2,0) de C: Fila 2 de A por Columna 0 de B:\n",
        "(7⋅0)+(8⋅0)+(−9⋅2)=0+0−18=−18\n",
        "\n",
        "Elemento (2,1) de C: Fila 2 de A por Columna 1 de B:\n",
        "(7⋅2)+(8⋅2)+(−9⋅9)=14+16−81=−51\n",
        "\n",
        "Elemento (2,2) de C: Fila 2 de A por Columna 2 de B:\n",
        "(7⋅1)+(8⋅−8)+(−9⋅−1)=7−64+9=−48\n",
        "\n",
        "Matriz resultante C:\n",
        "C=\n",
        "\n",
        "​\n",
        "  \n",
        "6\n",
        "12\n",
        "−18\n",
        "​\n",
        "  \n",
        "29\n",
        "52\n",
        "−51\n",
        "​\n",
        "  \n",
        "−20\n",
        "38\n",
        "−48\n",
        "​\n",
        "  \n",
        "\n",
        "​\n",
        "\n",
        "\n"
      ],
      "metadata": {
        "id": "4mStz7MRiPC3"
      }
    },
    {
      "cell_type": "code",
      "execution_count": null,
      "metadata": {
        "colab": {
          "base_uri": "https://localhost:8080/"
        },
        "id": "h0AHoo_vcALV",
        "outputId": "c6ef7b00-ecc0-45b4-93e1-b1557fde2abe"
      },
      "outputs": [
        {
          "output_type": "stream",
          "name": "stdout",
          "text": [
            "Resultado con np.matmul():\n",
            " [[  6  29 -20]\n",
            " [ 12  52  38]\n",
            " [-18 -51 -48]]\n",
            "\n",
            "Resultado con np.dot():\n",
            " [[  6  29 -20]\n",
            " [ 12  52  38]\n",
            " [-18 -51 -48]]\n",
            "\n",
            "Resultado con el operador @:\n",
            " [[  6  29 -20]\n",
            " [ 12  52  38]\n",
            " [-18 -51 -48]]\n"
          ]
        }
      ],
      "source": [
        "#EJERCICIO 2\n",
        "import numpy as np\n",
        "\n",
        "a_ndarray = np.array([[-1, 2, 3], [4, -5, 6], [7, 8, -9]])\n",
        "b_ndarray = np.array([[0, 2, 1], [0, 2, -8], [2, 9, -1]])\n",
        "\n",
        "# Usando np.matmul()\n",
        "c_matmul = np.matmul(a_ndarray, b_ndarray)\n",
        "print(\"Resultado con np.matmul():\\n\", c_matmul)\n",
        "\n",
        "# Usando np.dot()\n",
        "c_dot = np.dot(a_ndarray, b_ndarray)\n",
        "print(\"\\nResultado con np.dot():\\n\", c_dot)\n",
        "\n",
        "# Usando el operador @\n",
        "c_at = a_ndarray @ b_ndarray\n",
        "print(\"\\nResultado con el operador @:\\n\", c_at)\n"
      ]
    },
    {
      "cell_type": "code",
      "source": [
        "#2\n",
        "import numpy as np\n",
        "\n",
        "a_ndarray = np.array([[-1, 2, 3], [4, -5, 6], [7, 8, -9]])\n",
        "b_ndarray = np.array([[0, 2, 1], [0, 2, -8], [2, 9, -1]])\n",
        "\n",
        "# Calcular el elemento (0, 0) manualmente\n",
        "c00 = (a_ndarray[0, 0] * b_ndarray[0, 0]) + \\\n",
        "      (a_ndarray[0, 1] * b_ndarray[1, 0]) + \\\n",
        "      (a_ndarray[0, 2] * b_ndarray[2, 0])\n",
        "\n",
        "print(f\"El elemento (0, 0) de la matriz resultante es: {c00}\")"
      ],
      "metadata": {
        "colab": {
          "base_uri": "https://localhost:8080/"
        },
        "id": "m1veXekfl27K",
        "outputId": "59bd2486-8374-4cc9-b336-c20c23e852e1"
      },
      "execution_count": null,
      "outputs": [
        {
          "output_type": "stream",
          "name": "stdout",
          "text": [
            "El elemento (0, 0) de la matriz resultante es: 6\n"
          ]
        }
      ]
    },
    {
      "cell_type": "code",
      "source": [
        "#3\n",
        "import numpy as np\n",
        "\n",
        "a_ndarray = np.array([[-1, 2, 3], [4, -5, 6], [7, 8, -9]])\n",
        "b_ndarray = np.array([[0, 2, 1], [0, 2, -8], [2, 9, -1]])\n",
        "\n",
        "# Calcular el elemento (0, 0) manualmente\n",
        "c00 = (a_ndarray[0, 0] * b_ndarray[0, 0]) + \\\n",
        "      (a_ndarray[0, 1] * b_ndarray[1, 0]) + \\\n",
        "      (a_ndarray[0, 2] * b_ndarray[2, 0])\n",
        "\n",
        "print(f\"Element (0, 0) of the resulting matrix is: {c00}\")"
      ],
      "metadata": {
        "colab": {
          "base_uri": "https://localhost:8080/"
        },
        "id": "QbypHdqYmICS",
        "outputId": "d71791af-6fcb-4202-b499-16e43afa5193"
      },
      "execution_count": null,
      "outputs": [
        {
          "output_type": "stream",
          "name": "stdout",
          "text": [
            "Element (0, 0) of the resulting matrix is: 6\n"
          ]
        }
      ]
    },
    {
      "cell_type": "code",
      "source": [
        "#4\n",
        "import numpy as np\n",
        "\n",
        "def matrix_multiply(A, B):\n",
        "    \"\"\"\n",
        "    Realiza la multiplicación de dos matrices A y B.\n",
        "\n",
        "    Args:\n",
        "      A (np.ndarray): La primera matriz.\n",
        "      B (np.ndarray): La segunda matriz.\n",
        "\n",
        "    Returns:\n",
        "      np.ndarray: La matriz resultante del producto A * B.\n",
        "    \"\"\"\n",
        "    if A.shape[1] != B.shape[0]:\n",
        "        raise ValueError(\"The number of columns in A must be equal to the number of rows in B.\")\n",
        "\n",
        "    num_rows_A, num_cols_A = A.shape\n",
        "    num_rows_B, num_cols_B = B.shape\n",
        "\n",
        "    C = np.zeros((num_rows_A, num_cols_B))\n",
        "\n",
        "\n",
        "    for i in range(num_rows_A):\n",
        "        for j in range(num_cols_B):\n",
        "            for k in range(num_cols_A):\n",
        "                C[i, j] += A[i, k] * B[k, j]\n",
        "\n",
        "    return C\n",
        "\n",
        "a_ndarray = np.array([[-1, 2, 3], [4, -5, 6], [7, 8, -9]])\n",
        "b_ndarray = np.array([[0, 2, 1], [0, 2, -8], [2, 9, -1]])\n",
        "\n",
        "result_matrix = matrix_multiply(a_ndarray, b_ndarray)\n",
        "print(\"Result:\\n\", result_matrix)"
      ],
      "metadata": {
        "colab": {
          "base_uri": "https://localhost:8080/"
        },
        "id": "3x9F6E4wlaEd",
        "outputId": "61a7d859-cf6f-456b-ee22-eb09354c17ea"
      },
      "execution_count": null,
      "outputs": [
        {
          "output_type": "stream",
          "name": "stdout",
          "text": [
            "Resultado de la función matrix_multiply:\n",
            " [[  6.  29. -20.]\n",
            " [ 12.  52.  38.]\n",
            " [-18. -51. -48.]]\n"
          ]
        }
      ]
    },
    {
      "cell_type": "code",
      "source": [
        "#5\n",
        "import numpy as np\n",
        "\n",
        "def safe_matrix_multiply(A, B):\n",
        "    \"\"\"\n",
        "    Realiza la multiplicación de matrices de forma segura.\n",
        "\n",
        "    Args:\n",
        "      A (np.ndarray): La primera matriz.\n",
        "      B (np.ndarray): La segunda matriz.\n",
        "\n",
        "    Returns:\n",
        "      np.ndarray: La matriz resultante.\n",
        "    \"\"\"\n",
        "    if A.shape[1] != B.shape[0]:\n",
        "        print(\"Error: El número de columnas de la matriz A no coincide con el número de filas de la matriz B.\")\n",
        "        return None\n",
        "\n",
        "    num_rows_A, num_cols_A = A.shape\n",
        "    num_rows_B, num_cols_B = B.shape\n",
        "    C = np.zeros((num_rows_A, num_cols_B))\n",
        "\n",
        "    for i in range(num_rows_A):\n",
        "        for j in range(num_cols_B):\n",
        "            for k in range(num_cols_A):\n",
        "                C[i, j] += A[i, k] * B[k, j]\n",
        "\n",
        "    return C\n",
        "\n",
        "# Ejemplo con matrices D y E donde la multiplicación no está definida\n",
        "d_ndarray = np.array([[-1, 2, 3], [4, -5, 6]])\n",
        "e_ndarray = np.array([[-9, 8, 7], [6, -5, 4]])\n",
        "\n",
        "safe_matrix_multiply(d_ndarray, e_ndarray)"
      ],
      "metadata": {
        "colab": {
          "base_uri": "https://localhost:8080/"
        },
        "id": "-OgS62Rnm6mT",
        "outputId": "f66d4ec5-f5a8-4162-acfa-607a3c8be98c"
      },
      "execution_count": null,
      "outputs": [
        {
          "output_type": "stream",
          "name": "stdout",
          "text": [
            "Error: El número de columnas de la matriz A no coincide con el número de filas de la matriz B.\n"
          ]
        }
      ]
    },
    {
      "cell_type": "code",
      "source": [
        "#6\n",
        "import numpy as np\n",
        "\n",
        "a_ndarray = np.array([[-1, 2, 3], [4, -5, 6], [7, 8, -9]])\n",
        "d_ndarray = np.array([[-1, 2, 3], [4, -5, 6]])\n",
        "e_ndarray = np.array([[-9, 8, 7], [6, -5, 4]])\n",
        "\n",
        "# Transposición de la matriz D para poder multiplicarla por E\n",
        "d_transposed = d_ndarray.T\n",
        "\n",
        "print(\"Matriz D original:\\n\", d_ndarray)\n",
        "print(\"\\nMatriz D transpuesta:\\n\", d_transposed)\n",
        "\n",
        "# La multiplicación de D.T por E es posible\n",
        "# (Filas de D.T = 3, Columnas de E = 2)\n",
        "# Las dimensiones son (3x2) * (2x3), lo que produce una matriz (3x3)\n",
        "product_de_transposed = d_transposed @ e_ndarray\n",
        "print(\"\\nProducto de D.T @ E:\\n\", product_de_transposed)"
      ],
      "metadata": {
        "colab": {
          "base_uri": "https://localhost:8080/"
        },
        "id": "GXiUfYkdnOBS",
        "outputId": "561df3bf-52f1-4fcd-dde4-07663e94b70c"
      },
      "execution_count": null,
      "outputs": [
        {
          "output_type": "stream",
          "name": "stdout",
          "text": [
            "Matriz D original:\n",
            " [[-1  2  3]\n",
            " [ 4 -5  6]]\n",
            "\n",
            "Matriz D transpuesta:\n",
            " [[-1  4]\n",
            " [ 2 -5]\n",
            " [ 3  6]]\n",
            "\n",
            "Producto de D.T @ E:\n",
            " [[ 33 -28   9]\n",
            " [-48  41  -6]\n",
            " [  9  -6  45]]\n"
          ]
        }
      ]
    }
  ]
}