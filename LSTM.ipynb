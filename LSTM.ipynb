{
  "cells": [
    {
      "cell_type": "markdown",
      "metadata": {
        "id": "view-in-github",
        "colab_type": "text"
      },
      "source": [
        "<a href=\"https://colab.research.google.com/github/SILVIAIRENE/Data-Scientist-Machine-Learning-Engineer-Introductory-Course/blob/master/LSTM.ipynb\" target=\"_parent\"><img src=\"https://colab.research.google.com/assets/colab-badge.svg\" alt=\"Open In Colab\"/></a>"
      ]
    },
    {
      "cell_type": "code",
      "execution_count": null,
      "metadata": {
        "id": "5HNs0LQz-gBr"
      },
      "outputs": [],
      "source": []
    },
    {
      "cell_type": "code",
      "execution_count": null,
      "metadata": {
        "colab": {
          "base_uri": "https://localhost:8080/"
        },
        "id": "DrqLruBErV8S",
        "outputId": "eb643680-6bf5-4225-c526-3f6827e090ba"
      },
      "outputs": [
        {
          "name": "stdout",
          "output_type": "stream",
          "text": [
            "Loading IMDb dataset...\n",
            "Downloading data from https://storage.googleapis.com/tensorflow/tf-keras-datasets/imdb.npz\n",
            "\u001b[1m17464789/17464789\u001b[0m \u001b[32m━━━━━━━━━━━━━━━━━━━━\u001b[0m\u001b[37m\u001b[0m \u001b[1m0s\u001b[0m 0us/step\n",
            "Train shape: (25000, 80), Test shape: (25000, 80)\n",
            "\n",
            "=== Training SimpleRNN ===\n"
          ]
        },
        {
          "name": "stderr",
          "output_type": "stream",
          "text": [
            "/usr/local/lib/python3.12/dist-packages/keras/src/layers/core/embedding.py:97: UserWarning: Argument `input_length` is deprecated. Just remove it.\n",
            "  warnings.warn(\n"
          ]
        },
        {
          "name": "stdout",
          "output_type": "stream",
          "text": [
            "Epoch 1/5\n",
            "782/782 - 60s - 76ms/step - accuracy: 0.5471 - loss: 0.6834 - val_accuracy: 0.5946 - val_loss: 0.6636\n",
            "Epoch 2/5\n",
            "782/782 - 65s - 83ms/step - accuracy: 0.7218 - loss: 0.5439 - val_accuracy: 0.7593 - val_loss: 0.5005\n",
            "Epoch 3/5\n",
            "782/782 - 75s - 95ms/step - accuracy: 0.8017 - loss: 0.4445 - val_accuracy: 0.6760 - val_loss: 0.5902\n",
            "Epoch 4/5\n",
            "782/782 - 56s - 72ms/step - accuracy: 0.8267 - loss: 0.4011 - val_accuracy: 0.7724 - val_loss: 0.5075\n",
            "Epoch 5/5\n",
            "782/782 - 54s - 69ms/step - accuracy: 0.8314 - loss: 0.3913 - val_accuracy: 0.7344 - val_loss: 0.5510\n",
            "SimpleRNN Test accuracy: 0.7344 (time: 309.9s)\n",
            "\n",
            "=== Training GRU ===\n",
            "Epoch 1/5\n",
            "782/782 - 192s - 245ms/step - accuracy: 0.7695 - loss: 0.4736 - val_accuracy: 0.8417 - val_loss: 0.3724\n",
            "Epoch 2/5\n",
            "782/782 - 199s - 254ms/step - accuracy: 0.8930 - loss: 0.2672 - val_accuracy: 0.8538 - val_loss: 0.3508\n",
            "Epoch 3/5\n",
            "782/782 - 201s - 257ms/step - accuracy: 0.9417 - loss: 0.1575 - val_accuracy: 0.8400 - val_loss: 0.4075\n",
            "Epoch 4/5\n",
            "782/782 - 203s - 260ms/step - accuracy: 0.9711 - loss: 0.0846 - val_accuracy: 0.8291 - val_loss: 0.5107\n",
            "Epoch 5/5\n",
            "782/782 - 222s - 283ms/step - accuracy: 0.9855 - loss: 0.0449 - val_accuracy: 0.8238 - val_loss: 0.6368\n",
            "GRU Test accuracy: 0.8238 (time: 1016.1s)\n",
            "\n",
            "=== Training LSTM ===\n",
            "Epoch 1/5\n",
            "782/782 - 213s - 272ms/step - accuracy: 0.7755 - loss: 0.4644 - val_accuracy: 0.8334 - val_loss: 0.3808\n",
            "Epoch 2/5\n",
            "782/782 - 274s - 350ms/step - accuracy: 0.8754 - loss: 0.2985 - val_accuracy: 0.8344 - val_loss: 0.3814\n",
            "Epoch 3/5\n",
            "782/782 - 263s - 337ms/step - accuracy: 0.9190 - loss: 0.2080 - val_accuracy: 0.8257 - val_loss: 0.4342\n",
            "Epoch 4/5\n",
            "782/782 - 246s - 315ms/step - accuracy: 0.9447 - loss: 0.1458 - val_accuracy: 0.8154 - val_loss: 0.5243\n",
            "Epoch 5/5\n",
            "782/782 - 221s - 282ms/step - accuracy: 0.9640 - loss: 0.0987 - val_accuracy: 0.8228 - val_loss: 0.6168\n",
            "LSTM Test accuracy: 0.8228 (time: 1217.0s)\n",
            "\n",
            "=== Comparison ===\n",
            "    Model  Accuracy  Training Time (s)\n",
            "SimpleRNN   0.73444         309.873616\n",
            "      GRU   0.82384        1016.093340\n",
            "     LSTM   0.82276        1216.996664\n"
          ]
        }
      ],
      "source": [
        "from keras.preprocessing import sequence\n",
        "from keras.models import Sequential\n",
        "from keras.layers import Dense, Embedding, SimpleRNN, GRU, LSTM\n",
        "from keras.datasets import imdb\n",
        "import pandas as pd\n",
        "import time\n",
        "\n",
        "# -------------------\n",
        "# Hyperparameters\n",
        "# -------------------\n",
        "max_features = 20000   # number of words to consider as features\n",
        "maxlen = 80            # cut texts after this number of words\n",
        "batch_size = 32\n",
        "embedding_dim = 128\n",
        "epochs = 5             # you can increase for better results\n",
        "\n",
        "# -------------------\n",
        "# Load data\n",
        "# -------------------\n",
        "print(\"Loading IMDb dataset...\")\n",
        "(x_train, y_train), (x_test, y_test) = imdb.load_data(num_words=max_features)\n",
        "x_train = sequence.pad_sequences(x_train, maxlen=maxlen)\n",
        "x_test = sequence.pad_sequences(x_test, maxlen=maxlen)\n",
        "\n",
        "print(f\"Train shape: {x_train.shape}, Test shape: {x_test.shape}\")\n",
        "\n",
        "# -------------------\n",
        "# Helper function\n",
        "# -------------------\n",
        "def build_and_train(model_type=\"LSTM\", units=128):\n",
        "    print(f\"\\n=== Training {model_type} ===\")\n",
        "    model = Sequential()\n",
        "    model.add(Embedding(max_features, embedding_dim, input_length=maxlen))\n",
        "\n",
        "    if model_type == \"SimpleRNN\":\n",
        "        model.add(SimpleRNN(units, dropout=0.2, recurrent_dropout=0.2))\n",
        "    elif model_type == \"GRU\":\n",
        "        model.add(GRU(units, dropout=0.2, recurrent_dropout=0.2))\n",
        "    elif model_type == \"LSTM\":\n",
        "        model.add(LSTM(units, dropout=0.2, recurrent_dropout=0.2))\n",
        "    else:\n",
        "        raise ValueError(\"Unknown model type\")\n",
        "\n",
        "    model.add(Dense(1, activation=\"sigmoid\"))\n",
        "\n",
        "    model.compile(loss=\"binary_crossentropy\",\n",
        "                  optimizer=\"adam\",\n",
        "                  metrics=[\"accuracy\"])\n",
        "\n",
        "    start = time.time()\n",
        "    history = model.fit(x_train, y_train,\n",
        "                        batch_size=batch_size,\n",
        "                        epochs=epochs,\n",
        "                        validation_data=(x_test, y_test),\n",
        "                        verbose=2)\n",
        "    end = time.time()\n",
        "\n",
        "    score, acc = model.evaluate(x_test, y_test, batch_size=batch_size, verbose=0)\n",
        "    print(f\"{model_type} Test accuracy: {acc:.4f} (time: {end-start:.1f}s)\")\n",
        "    return model_type, acc, end-start\n",
        "\n",
        "# -------------------\n",
        "# Run all models\n",
        "# -------------------\n",
        "results = []\n",
        "for m in [\"SimpleRNN\", \"GRU\", \"LSTM\"]:\n",
        "    name, acc, runtime = build_and_train(m)\n",
        "    results.append((name, acc, runtime))\n",
        "\n",
        "# -------------------\n",
        "# Results table\n",
        "# -------------------\n",
        "df = pd.DataFrame(results, columns=[\"Model\", \"Accuracy\", \"Training Time (s)\"])\n",
        "print(\"\\n=== Comparison ===\")\n",
        "print(df.to_string(index=False))\n"
      ]
    },
    {
      "cell_type": "markdown",
      "metadata": {
        "id": "Ji13H63vVCHF"
      },
      "source": [
        "[Problema 2] (Tarea avanzada) Comparación entre múltiples conjuntos de datos\n",
        "Experimente con otros conjuntos de datos.\n",
        "\n",
        "Documentación del conjunto de datos de Keras\n",
        "\n",
        "Un conjunto de datos de lenguaje natural fácil de usar en Keras es Reuters Newswire Topics Classification."
      ]
    },
    {
      "cell_type": "code",
      "execution_count": null,
      "metadata": {
        "colab": {
          "background_save": true,
          "base_uri": "https://localhost:8080/"
        },
        "id": "YjUVZuIQVDCR",
        "outputId": "ca568cd7-f54b-41d1-bf49-455204796254"
      },
      "outputs": [
        {
          "name": "stdout",
          "output_type": "stream",
          "text": [
            "Loading Reuters dataset...\n",
            "Downloading data from https://storage.googleapis.com/tensorflow/tf-keras-datasets/reuters.npz\n",
            "\u001b[1m2110848/2110848\u001b[0m \u001b[32m━━━━━━━━━━━━━━━━━━━━\u001b[0m\u001b[37m\u001b[0m \u001b[1m0s\u001b[0m 0us/step\n",
            "Train shape: (8982, 80), Test shape: (2246, 80)\n",
            "Number of classes: 46\n",
            "\n",
            "=== Training SimpleRNN on Reuters ===\n"
          ]
        },
        {
          "name": "stderr",
          "output_type": "stream",
          "text": [
            "/usr/local/lib/python3.12/dist-packages/keras/src/layers/core/embedding.py:97: UserWarning: Argument `input_length` is deprecated. Just remove it.\n",
            "  warnings.warn(\n"
          ]
        },
        {
          "name": "stdout",
          "output_type": "stream",
          "text": [
            "Epoch 1/5\n",
            "281/281 - 29s - 102ms/step - accuracy: 0.3192 - loss: 2.5671 - val_accuracy: 0.3620 - val_loss: 2.4313\n",
            "Epoch 2/5\n",
            "281/281 - 33s - 118ms/step - accuracy: 0.3840 - loss: 2.3238 - val_accuracy: 0.4069 - val_loss: 2.2335\n",
            "Epoch 3/5\n",
            "281/281 - 16s - 55ms/step - accuracy: 0.4557 - loss: 2.1199 - val_accuracy: 0.4199 - val_loss: 2.2057\n",
            "Epoch 4/5\n",
            "281/281 - 17s - 59ms/step - accuracy: 0.5073 - loss: 1.9455 - val_accuracy: 0.4225 - val_loss: 2.2317\n",
            "Epoch 5/5\n",
            "281/281 - 17s - 59ms/step - accuracy: 0.5536 - loss: 1.7760 - val_accuracy: 0.4297 - val_loss: 2.2785\n",
            "SimpleRNN Test accuracy: 0.4297 (time: 110.9s)\n",
            "\n",
            "=== Training GRU on Reuters ===\n",
            "Epoch 1/5\n",
            "281/281 - 59s - 209ms/step - accuracy: 0.4393 - loss: 2.1111 - val_accuracy: 0.5227 - val_loss: 1.7998\n",
            "Epoch 2/5\n",
            "281/281 - 82s - 291ms/step - accuracy: 0.5600 - loss: 1.6867 - val_accuracy: 0.5641 - val_loss: 1.7338\n",
            "Epoch 3/5\n",
            "281/281 - 83s - 297ms/step - accuracy: 0.6142 - loss: 1.4927 - val_accuracy: 0.6042 - val_loss: 1.5513\n",
            "Epoch 4/5\n",
            "281/281 - 79s - 281ms/step - accuracy: 0.6710 - loss: 1.2857 - val_accuracy: 0.6220 - val_loss: 1.4970\n",
            "Epoch 5/5\n",
            "281/281 - 83s - 296ms/step - accuracy: 0.7128 - loss: 1.1040 - val_accuracy: 0.6291 - val_loss: 1.5003\n",
            "GRU Test accuracy: 0.6291 (time: 386.0s)\n",
            "\n",
            "=== Training LSTM on Reuters ===\n",
            "Epoch 1/5\n",
            "281/281 - 68s - 241ms/step - accuracy: 0.4338 - loss: 2.1834 - val_accuracy: 0.5214 - val_loss: 1.7947\n",
            "Epoch 2/5\n",
            "281/281 - 80s - 286ms/step - accuracy: 0.5517 - loss: 1.6982 - val_accuracy: 0.5574 - val_loss: 1.7193\n",
            "Epoch 3/5\n",
            "281/281 - 61s - 218ms/step - accuracy: 0.6191 - loss: 1.4799 - val_accuracy: 0.6291 - val_loss: 1.4892\n",
            "Epoch 4/5\n",
            "281/281 - 81s - 289ms/step - accuracy: 0.6866 - loss: 1.2108 - val_accuracy: 0.6500 - val_loss: 1.3975\n",
            "Epoch 5/5\n",
            "281/281 - 61s - 217ms/step - accuracy: 0.7425 - loss: 0.9884 - val_accuracy: 0.6621 - val_loss: 1.3735\n",
            "LSTM Test accuracy: 0.6621 (time: 372.5s)\n",
            "\n",
            "=== Reuters Results ===\n",
            "    Model  Accuracy  Training Time (s)\n",
            "SimpleRNN  0.429653         110.876411\n",
            "      GRU  0.629118         385.995461\n",
            "     LSTM  0.662066         372.507015\n",
            "\n",
            "=== Comparison: IMDb vs Reuters ===\n",
            "IMDb (Binary Classification):\n",
            "    Model  Accuracy  Training Time (s)\n",
            "SimpleRNN    0.7852               48.9\n",
            "      GRU    0.8174             1020.1\n",
            "     LSTM    0.8257             1114.6\n",
            "\n",
            "Reuters (Multi-class Classification):\n",
            "    Model  Accuracy  Training Time (s)\n",
            "SimpleRNN  0.429653         110.876411\n",
            "      GRU  0.629118         385.995461\n",
            "     LSTM  0.662066         372.507015\n"
          ]
        }
      ],
      "source": [
        "from keras.datasets import reuters\n",
        "from tensorflow.keras.utils import to_categorical\n",
        "from keras.preprocessing import sequence\n",
        "from keras.models import Sequential\n",
        "from keras.layers import Dense, Embedding, SimpleRNN, GRU, LSTM\n",
        "import pandas as pd\n",
        "import time\n",
        "\n",
        "# Use the same hyperparameters as IMDb\n",
        "max_features = 20000\n",
        "maxlen = 80\n",
        "batch_size = 32\n",
        "embedding_dim = 128\n",
        "epochs = 5\n",
        "\n",
        "# Load and preprocess Reuters dataset\n",
        "print(\"Loading Reuters dataset...\")\n",
        "(x_train_reuters, y_train_reuters), (x_test_reuters, y_test_reuters) = reuters.load_data(num_words=max_features)\n",
        "x_train_reuters = sequence.pad_sequences(x_train_reuters, maxlen=maxlen)\n",
        "x_test_reuters = sequence.pad_sequences(x_test_reuters, maxlen=maxlen)\n",
        "\n",
        "# Prepare labels for multi-class classification\n",
        "num_classes = max(y_train_reuters) + 1\n",
        "y_train_reuters = to_categorical(y_train_reuters, num_classes)\n",
        "y_test_reuters = to_categorical(y_test_reuters, num_classes)\n",
        "\n",
        "print(f\"Train shape: {x_train_reuters.shape}, Test shape: {x_test_reuters.shape}\")\n",
        "print(f\"Number of classes: {num_classes}\")\n",
        "\n",
        "# Helper function for Reuters (multi-class classification)\n",
        "def build_and_train_reuters(x_train, y_train, x_test, y_test, model_type=\"LSTM\", units=128):\n",
        "    print(f\"\\n=== Training {model_type} on Reuters ===\")\n",
        "    model = Sequential()\n",
        "    model.add(Embedding(max_features, embedding_dim, input_length=maxlen))\n",
        "\n",
        "    if model_type == \"SimpleRNN\":\n",
        "        model.add(SimpleRNN(units, dropout=0.2, recurrent_dropout=0.2))\n",
        "    elif model_type == \"GRU\":\n",
        "        model.add(GRU(units, dropout=0.2, recurrent_dropout=0.2))\n",
        "    elif model_type == \"LSTM\":\n",
        "        model.add(LSTM(units, dropout=0.2, recurrent_dropout=0.2))\n",
        "    else:\n",
        "        raise ValueError(\"Unknown model type\")\n",
        "\n",
        "    # Multi-class classification requires softmax and categorical_crossentropy\n",
        "    model.add(Dense(num_classes, activation=\"softmax\"))\n",
        "\n",
        "    model.compile(loss=\"categorical_crossentropy\",\n",
        "                  optimizer=\"adam\",\n",
        "                  metrics=[\"accuracy\"])\n",
        "\n",
        "    start = time.time()\n",
        "    history = model.fit(x_train, y_train,\n",
        "                        batch_size=batch_size,\n",
        "                        epochs=epochs,\n",
        "                        validation_data=(x_test, y_test),\n",
        "                        verbose=2)\n",
        "    end = time.time()\n",
        "\n",
        "    score, acc = model.evaluate(x_test, y_test, batch_size=batch_size, verbose=0)\n",
        "    print(f\"{model_type} Test accuracy: {acc:.4f} (time: {end-start:.1f}s)\")\n",
        "    return model_type, acc, end-start\n",
        "\n",
        "# Run all models on Reuters\n",
        "results_reuters = []\n",
        "for m in [\"SimpleRNN\", \"GRU\", \"LSTM\"]:\n",
        "    name, acc, runtime = build_and_train_reuters(x_train_reuters, y_train_reuters,\n",
        "                                                 x_test_reuters, y_test_reuters,\n",
        "                                                 model_type=m)\n",
        "    results_reuters.append((name, acc, runtime))\n",
        "\n",
        "# Results table\n",
        "df_reuters = pd.DataFrame(results_reuters, columns=[\"Model\", \"Accuracy\", \"Training Time (s)\"])\n",
        "print(\"\\n=== Reuters Results ===\")\n",
        "print(df_reuters.to_string(index=False))\n",
        "\n",
        "# Compare with IMDb results (if you want to show both)\n",
        "print(\"\\n=== Comparison: IMDb vs Reuters ===\")\n",
        "print(\"IMDb (Binary Classification):\")\n",
        "# Your IMDb results from before\n",
        "imdb_results = [\n",
        "    (\"SimpleRNN\", 0.7852, 48.9),\n",
        "    (\"GRU\", 0.8174, 1020.1),\n",
        "    (\"LSTM\", 0.8257, 1114.6)\n",
        "]\n",
        "df_imdb = pd.DataFrame(imdb_results, columns=[\"Model\", \"Accuracy\", \"Training Time (s)\"])\n",
        "print(df_imdb.to_string(index=False))\n",
        "\n",
        "print(\"\\nReuters (Multi-class Classification):\")\n",
        "print(df_reuters.to_string(index=False))"
      ]
    },
    {
      "cell_type": "markdown",
      "metadata": {
        "id": "XhQAqNFqVK9v"
      },
      "source": [
        "[Problema 3] Explicación de otras clases\n",
        "Hay otras clases relacionadas en la documentación. Explíquelas. Algunas de estas clases rara vez se usan en la práctica.\n",
        "\n",
        "Enfermera registrada\n",
        "SimpleRNNCell\n",
        "GRUCell\n",
        "Celda LSTMCell\n",
        "Células RNN apiladas\n",
        "CuDNNGRU\n",
        "CuDNNNLSTM\n",
        "prueba"
      ]
    },
    {
      "cell_type": "markdown",
      "metadata": {
        "id": "LOggbNeYilo-"
      },
      "source": []
    },
    {
      "cell_type": "code",
      "execution_count": null,
      "metadata": {
        "id": "MKi6r5GsVSCn",
        "outputId": "6d3d4f09-5116-4602-a1ba-c68a681c13ef",
        "colab": {
          "base_uri": "https://localhost:8080/"
        }
      },
      "outputs": [
        {
          "output_type": "stream",
          "name": "stdout",
          "text": [
            "Downloading data from https://storage.googleapis.com/tensorflow/tf-keras-datasets/imdb.npz\n",
            "\u001b[1m17464789/17464789\u001b[0m \u001b[32m━━━━━━━━━━━━━━━━━━━━\u001b[0m\u001b[37m\u001b[0m \u001b[1m0s\u001b[0m 0us/step\n"
          ]
        },
        {
          "output_type": "execute_result",
          "data": {
            "text/plain": [
              "<Sequential name=sequential_3, built=False>"
            ]
          },
          "metadata": {},
          "execution_count": 1
        }
      ],
      "source": [
        "from keras.models import Sequential\n",
        "from keras.layers import RNN, SimpleRNNCell, GRUCell, LSTMCell, StackedRNNCells, Dense, Embedding\n",
        "from keras.datasets import imdb\n",
        "from keras.preprocessing import sequence\n",
        "\n",
        "max_features = 20000\n",
        "maxlen = 80\n",
        "(x_train, y_train), (x_test, y_test) = imdb.load_data(num_words=max_features)\n",
        "x_train = sequence.pad_sequences(x_train, maxlen=maxlen)\n",
        "x_test = sequence.pad_sequences(x_test, maxlen=maxlen)\n",
        "\n",
        "# Example 1: Using SimpleRNNCell inside RNN\n",
        "model1 = Sequential([\n",
        "    Embedding(max_features, 128),\n",
        "    RNN(SimpleRNNCell(32)),\n",
        "    Dense(1, activation=\"sigmoid\")\n",
        "])\n",
        "\n",
        "# Example 2: Using GRUCell\n",
        "model2 = Sequential([\n",
        "    Embedding(max_features, 128),\n",
        "    RNN(GRUCell(32)),\n",
        "    Dense(1, activation=\"sigmoid\")\n",
        "])\n",
        "\n",
        "# Example 3: Using LSTMCell\n",
        "model3 = Sequential([\n",
        "    Embedding(max_features, 128),\n",
        "    RNN(LSTMCell(32)),\n",
        "    Dense(1, activation=\"sigmoid\")\n",
        "])\n",
        "\n",
        "# Example 4: Stacked cells (2 LSTM layers in one RNN)\n",
        "stacked_cells = StackedRNNCells([LSTMCell(32), LSTMCell(32)])\n",
        "model4 = Sequential([\n",
        "    Embedding(max_features, 128),\n",
        "    RNN(stacked_cells),\n",
        "    Dense(1, activation=\"sigmoid\")\n",
        "])\n",
        "\n",
        "model1\n",
        "model2\n",
        "model3\n",
        "model4"
      ]
    },
    {
      "cell_type": "code",
      "execution_count": null,
      "metadata": {
        "id": "IAGKwVl2StN5"
      },
      "outputs": [],
      "source": []
    }
  ],
  "metadata": {
    "colab": {
      "provenance": [],
      "authorship_tag": "ABX9TyMmaxWprJkCT08BeEyPs1X9",
      "include_colab_link": true
    },
    "kernelspec": {
      "display_name": "Python 3",
      "name": "python3"
    },
    "language_info": {
      "name": "python"
    }
  },
  "nbformat": 4,
  "nbformat_minor": 0
}